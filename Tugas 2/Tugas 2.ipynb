{
 "cells": [
  {
   "cell_type": "markdown",
   "metadata": {},
   "source": [
    "<h1><b>BIG DATA & PREDICTIVE ANALYTICS (Pertemuan 3)</b></h1>\n",
    "<ul>\n",
    "    <li>Nama : Haikal Raditya Fadhilah</li>\n",
    "    <li>NIM : 21.11.3910</li>\n",
    "    <li>Kelas : Informatika 02</li>\n",
    "</ul>"
   ]
  },
  {
   "cell_type": "markdown",
   "metadata": {},
   "source": [
    "<h2><b>IMPORT LIBRARY</b></h2>"
   ]
  },
  {
   "cell_type": "code",
   "execution_count": 166,
   "metadata": {},
   "outputs": [],
   "source": [
    "import pyspark\n",
    "from pyspark.sql import SparkSession"
   ]
  },
  {
   "cell_type": "markdown",
   "metadata": {},
   "source": [
    "<h2><b>MEMBUAT PYSPARK SESSION</b></h2>"
   ]
  },
  {
   "cell_type": "markdown",
   "metadata": {},
   "source": [
    "<h3><b>Membuat Session Pyspark</b></h3>"
   ]
  },
  {
   "cell_type": "code",
   "execution_count": 167,
   "metadata": {},
   "outputs": [],
   "source": [
    "spark = SparkSession.builder\\\n",
    "    .master(\"local[*]\")\\\n",
    "        .appName(\"Tugas 3 BDPAL\")\\\n",
    "            .getOrCreate()"
   ]
  },
  {
   "cell_type": "markdown",
   "metadata": {},
   "source": [
    "<h3><b>Cek Session Pyspark</b></h3>"
   ]
  },
  {
   "cell_type": "code",
   "execution_count": 168,
   "metadata": {},
   "outputs": [
    {
     "name": "stdout",
     "output_type": "stream",
     "text": [
      "Session Pyspark Sudah Aktif\n"
     ]
    }
   ],
   "source": [
    "if (spark.getActiveSession()):\n",
    "    print(\"Session Pyspark Sudah Aktif\")\n",
    "else:\n",
    "    print(\"Session Pyspark Belum Aktif\")"
   ]
  },
  {
   "cell_type": "markdown",
   "metadata": {},
   "source": [
    "<h2><b>IMPORT DATASET</b></h2>"
   ]
  },
  {
   "cell_type": "code",
   "execution_count": 169,
   "metadata": {},
   "outputs": [],
   "source": [
    "df = spark.read.csv('./Car_sales.csv',header=True,inferSchema=True)"
   ]
  },
  {
   "cell_type": "markdown",
   "metadata": {},
   "source": [
    "<h2><b>EDA</b></h2>"
   ]
  },
  {
   "cell_type": "markdown",
   "metadata": {},
   "source": [
    "<h3><b>Melihat Potongan Dataset</b></h3>"
   ]
  },
  {
   "cell_type": "code",
   "execution_count": 170,
   "metadata": {},
   "outputs": [
    {
     "name": "stdout",
     "output_type": "stream",
     "text": [
      "+------------+-------+------------------+-------------------+------------+------------------+-----------+----------+---------+-----+------+-----------+-------------+---------------+-------------+-----------------+\n",
      "|Manufacturer|  Model|Sales_in_thousands|__year_resale_value|Vehicle_type|Price_in_thousands|Engine_size|Horsepower|Wheelbase|Width|Length|Curb_weight|Fuel_capacity|Fuel_efficiency|Latest_Launch|Power_perf_factor|\n",
      "+------------+-------+------------------+-------------------+------------+------------------+-----------+----------+---------+-----+------+-----------+-------------+---------------+-------------+-----------------+\n",
      "|       Acura|Integra|            16.919|              16.36|   Passenger|              21.5|        1.8|       140|    101.2| 67.3| 172.4|      2.639|         13.2|             28|     2/2/2012|      58.28014952|\n",
      "|       Acura|     TL|            39.384|             19.875|   Passenger|              28.4|        3.2|       225|    108.1| 70.3| 192.9|      3.517|         17.2|             25|     6/3/2011|      91.37077766|\n",
      "|       Acura|     CL|            14.114|             18.225|   Passenger|              null|        3.2|       225|    106.9| 70.6| 192.0|       3.47|         17.2|             26|     1/4/2012|             null|\n",
      "|       Acura|     RL|             8.588|             29.725|   Passenger|              42.0|        3.5|       210|    114.6| 71.4| 196.6|       3.85|         18.0|             22|    3/10/2011|      91.38977933|\n",
      "|        Audi|     A4|            20.397|             22.255|   Passenger|             23.99|        1.8|       150|    102.6| 68.2| 178.0|      2.998|         16.4|             27|    10/8/2011|       62.7776392|\n",
      "+------------+-------+------------------+-------------------+------------+------------------+-----------+----------+---------+-----+------+-----------+-------------+---------------+-------------+-----------------+\n",
      "only showing top 5 rows\n",
      "\n"
     ]
    }
   ],
   "source": [
    "df.show(5)"
   ]
  },
  {
   "cell_type": "markdown",
   "metadata": {},
   "source": [
    "<h3><b>Melihat Nama Kolom Berserta Variabelnya</b></h3>"
   ]
  },
  {
   "cell_type": "code",
   "execution_count": 171,
   "metadata": {},
   "outputs": [
    {
     "name": "stdout",
     "output_type": "stream",
     "text": [
      "root\n",
      " |-- Manufacturer: string (nullable = true)\n",
      " |-- Model: string (nullable = true)\n",
      " |-- Sales_in_thousands: double (nullable = true)\n",
      " |-- __year_resale_value: double (nullable = true)\n",
      " |-- Vehicle_type: string (nullable = true)\n",
      " |-- Price_in_thousands: double (nullable = true)\n",
      " |-- Engine_size: double (nullable = true)\n",
      " |-- Horsepower: integer (nullable = true)\n",
      " |-- Wheelbase: double (nullable = true)\n",
      " |-- Width: double (nullable = true)\n",
      " |-- Length: double (nullable = true)\n",
      " |-- Curb_weight: double (nullable = true)\n",
      " |-- Fuel_capacity: double (nullable = true)\n",
      " |-- Fuel_efficiency: integer (nullable = true)\n",
      " |-- Latest_Launch: string (nullable = true)\n",
      " |-- Power_perf_factor: double (nullable = true)\n",
      "\n"
     ]
    }
   ],
   "source": [
    "df.printSchema()"
   ]
  },
  {
   "cell_type": "markdown",
   "metadata": {},
   "source": [
    "<h3><b>Melihat Jumlah Baris Dan Kolom</b></h3>"
   ]
  },
  {
   "cell_type": "code",
   "execution_count": 172,
   "metadata": {},
   "outputs": [
    {
     "name": "stdout",
     "output_type": "stream",
     "text": [
      "Jumlah Kolom Dataset :  16\n",
      "Jumlah Baris Dataset :  157\n"
     ]
    }
   ],
   "source": [
    "print(\"Jumlah Kolom Dataset : \",len(df.columns))\n",
    "print(\"Jumlah Baris Dataset : \",df.count())"
   ]
  },
  {
   "cell_type": "markdown",
   "metadata": {},
   "source": [
    "<h2><b>SELECTING</b></h2>"
   ]
  },
  {
   "cell_type": "markdown",
   "metadata": {},
   "source": [
    "<h3><b>Selecting Data</b></h3>"
   ]
  },
  {
   "cell_type": "code",
   "execution_count": 173,
   "metadata": {},
   "outputs": [
    {
     "name": "stdout",
     "output_type": "stream",
     "text": [
      "+------------+--------+------------------+----------+\n",
      "|Manufacturer|   Model|Price_in_thousands|Horsepower|\n",
      "+------------+--------+------------------+----------+\n",
      "|       Dodge|Intrepid|            22.505|       202|\n",
      "+------------+--------+------------------+----------+\n",
      "\n"
     ]
    }
   ],
   "source": [
    "data_selected_mobil = df.filter(df.Manufacturer == \"Dodge\").filter(df.Model == \"Intrepid\")\n",
    "data_selected_mobil.select(\"Manufacturer\",'Model','Price_in_thousands','Horsepower').show()"
   ]
  },
  {
   "cell_type": "markdown",
   "metadata": {},
   "source": [
    "<p><b>PENJELASAN</b></p>\n",
    "<p>Dengan Membuat Filter select kita dapat mengseleksi data yang ingin di tampilkan sesuai dengan ketentuan-ketentuan yang ditetapkan agar mendapatkan data yang valid.<br>\n",
    "Berikut Filter yang di terapkan : \n",
    "</p>\n",
    "<ul>\n",
    "    <li>Menampilkan data mobil yang Memiliki Merek Dogde</li>\n",
    "    <li>Menampilkan Data Mobil Yang Memiliki Model Intrepid</li>\n",
    "</ul>"
   ]
  },
  {
   "cell_type": "markdown",
   "metadata": {},
   "source": [
    "<h3><b>Rename Column</b></h3>"
   ]
  },
  {
   "cell_type": "code",
   "execution_count": 174,
   "metadata": {},
   "outputs": [
    {
     "name": "stdout",
     "output_type": "stream",
     "text": [
      "+------------+-------+------------+\n",
      "|Manufacturer|  Model|Harga_Rupiah|\n",
      "+------------+-------+------------+\n",
      "|       Acura|Integra|     3.225E8|\n",
      "|       Acura|     TL|      4.26E8|\n",
      "|       Acura|     CL|        null|\n",
      "|       Acura|     RL|       6.3E8|\n",
      "|        Audi|     A4|    3.5985E8|\n",
      "+------------+-------+------------+\n",
      "only showing top 5 rows\n",
      "\n"
     ]
    }
   ],
   "source": [
    "# Cara Pertama\n",
    "harga_rupiah = ((df.Price_in_thousands * 1000) * 15000).alias(\"Harga_Rupiah\")\n",
    "harga_rupiah = df.select(\"Manufacturer\",\"Model\",harga_rupiah)\n",
    "harga_rupiah.show(5)"
   ]
  },
  {
   "cell_type": "code",
   "execution_count": 175,
   "metadata": {},
   "outputs": [
    {
     "name": "stdout",
     "output_type": "stream",
     "text": [
      "+------------+-------+------------+\n",
      "|Manufacturer|  Model|Harga_Rupiah|\n",
      "+------------+-------+------------+\n",
      "|       Acura|Integra|     3.225E8|\n",
      "|       Acura|     TL|      4.26E8|\n",
      "|       Acura|     CL|        null|\n",
      "|       Acura|     RL|       6.3E8|\n",
      "|        Audi|     A4|    3.5985E8|\n",
      "+------------+-------+------------+\n",
      "only showing top 5 rows\n",
      "\n"
     ]
    }
   ],
   "source": [
    "# Cara kedua\n",
    "ubah_rupiah = df.selectExpr(\"Manufacturer\",'Model',\"(Price_in_thousands * 1000) * 15000 as Harga_Rupiah\")\n",
    "ubah_rupiah.show(5)"
   ]
  },
  {
   "cell_type": "markdown",
   "metadata": {},
   "source": [
    "<p><b>PENJELASAN</b></p>\n",
    "<p>Dengan Menggunakan fungsi dari spark kita dapat merubah nama kolom bahkan kita dapat mengganti serta menghitung nilai dari kolom yang sudah ada<br>\n",
    "Berikut Aksi yang di terapkan : \n",
    "</p>\n",
    "<ul>\n",
    "    <li>Merubah Angka Dollar Menjadi angka ribuan</li>\n",
    "    <li>Menghitung Harga Mobil Dengan Mata Uang Rupiah Yang Awalnya Dollar</li>\n",
    "</ul>"
   ]
  },
  {
   "cell_type": "markdown",
   "metadata": {},
   "source": [
    "<h2><b>FILTERING</b></h2>"
   ]
  },
  {
   "cell_type": "code",
   "execution_count": 176,
   "metadata": {},
   "outputs": [
    {
     "name": "stdout",
     "output_type": "stream",
     "text": [
      "+------------+-------+------------------+-------------------+------------+------------------+-----------+----------+---------+-----+------+-----------+-------------+---------------+-------------+-----------------+\n",
      "|Manufacturer|  Model|Sales_in_thousands|__year_resale_value|Vehicle_type|Price_in_thousands|Engine_size|Horsepower|Wheelbase|Width|Length|Curb_weight|Fuel_capacity|Fuel_efficiency|Latest_Launch|Power_perf_factor|\n",
      "+------------+-------+------------------+-------------------+------------+------------------+-----------+----------+---------+-----+------+-----------+-------------+---------------+-------------+-----------------+\n",
      "|       Acura|Integra|            16.919|              16.36|   Passenger|              21.5|        1.8|       140|    101.2| 67.3| 172.4|      2.639|         13.2|             28|     2/2/2012|      58.28014952|\n",
      "|       Acura|     TL|            39.384|             19.875|   Passenger|              28.4|        3.2|       225|    108.1| 70.3| 192.9|      3.517|         17.2|             25|     6/3/2011|      91.37077766|\n",
      "|       Acura|     CL|            14.114|             18.225|   Passenger|              null|        3.2|       225|    106.9| 70.6| 192.0|       3.47|         17.2|             26|     1/4/2012|             null|\n",
      "|       Acura|     RL|             8.588|             29.725|   Passenger|              42.0|        3.5|       210|    114.6| 71.4| 196.6|       3.85|         18.0|             22|    3/10/2011|      91.38977933|\n",
      "|        Audi|     A4|            20.397|             22.255|   Passenger|             23.99|        1.8|       150|    102.6| 68.2| 178.0|      2.998|         16.4|             27|    10/8/2011|       62.7776392|\n",
      "+------------+-------+------------------+-------------------+------------+------------------+-----------+----------+---------+-----+------+-----------+-------------+---------------+-------------+-----------------+\n",
      "only showing top 5 rows\n",
      "\n"
     ]
    }
   ],
   "source": [
    "filtering_harga_dan_horsepower = df.filter(df.Price_in_thousands < 25).filter(df.Horsepower > 200)\n",
    "df.show(5)"
   ]
  },
  {
   "cell_type": "markdown",
   "metadata": {},
   "source": [
    "<p><b>PENJELASAN</b></p>\n",
    "<p>Dengan menggunakan fungsi filter kita dapat memfilter data sesuai keinginan kita,selain itu dengan menggunakan filter data yang kita peroleh dapat lebih bersih serta menghasilkan prediksi yang baik.<br>\n",
    "Berikut Filter yang di terapkan : \n",
    "</p>\n",
    "<ul>\n",
    "    <li>Memfilter data mobil yang memiliki horsepower di atas 200</li>\n",
    "    <li>Memfilter data mobil yang memiliki harga di bawah 2500$</li>\n",
    "</ul>"
   ]
  },
  {
   "cell_type": "markdown",
   "metadata": {},
   "source": [
    "<h2><b>AGGREGATING</b></h2>"
   ]
  },
  {
   "cell_type": "code",
   "execution_count": 177,
   "metadata": {},
   "outputs": [],
   "source": [
    "# Merubah Value Dan Nama Kolom Price\n",
    "df = df.withColumn(\"Price_in_thousands\",df.Price_in_thousands * 1000).withColumnRenamed(\"Price_in_thousands\",\"Price\")"
   ]
  },
  {
   "cell_type": "code",
   "execution_count": 178,
   "metadata": {},
   "outputs": [
    {
     "name": "stdout",
     "output_type": "stream",
     "text": [
      "+------------+-----+\n",
      "|Manufacturer|count|\n",
      "+------------+-----+\n",
      "|       Dodge|   11|\n",
      "|        Ford|   11|\n",
      "|   Chevrolet|    9|\n",
      "+------------+-----+\n",
      "only showing top 3 rows\n",
      "\n"
     ]
    }
   ],
   "source": [
    "# Melihat Jumlah Merek Mobil Terbanyak Pada Dataset\n",
    "df.groupBy(\"Manufacturer\").count().orderBy(\"count\",ascending=False).show(3)"
   ]
  },
  {
   "cell_type": "code",
   "execution_count": 179,
   "metadata": {},
   "outputs": [
    {
     "name": "stdout",
     "output_type": "stream",
     "text": [
      "+--------------------------+\n",
      "|Harga Mobil Termahal Dodge|\n",
      "+--------------------------+\n",
      "|                   69725.0|\n",
      "+--------------------------+\n",
      "\n"
     ]
    }
   ],
   "source": [
    "# Melihat Harga Mobil Termahal Merek Dodge\n",
    "df.filter(df.Manufacturer == 'Dodge').groupBy().max(\"Price\").withColumnRenamed(\"max(Price)\",\"Harga Mobil Termahal Dodge\").show()"
   ]
  },
  {
   "cell_type": "code",
   "execution_count": 180,
   "metadata": {},
   "outputs": [
    {
     "name": "stdout",
     "output_type": "stream",
     "text": [
      "+-------------------------+\n",
      "|Harga Mobil Termurah Ford|\n",
      "+-------------------------+\n",
      "|                  12050.0|\n",
      "+-------------------------+\n",
      "\n"
     ]
    }
   ],
   "source": [
    "# Melihat Harga Mobil Termurah Merek Ford\n",
    "df.filter(df.Manufacturer == 'Ford').groupBy().min(\"Price\").withColumnRenamed(\"min(Price)\",\"Harga Mobil Termurah Ford\").show()"
   ]
  },
  {
   "cell_type": "markdown",
   "metadata": {},
   "source": [
    "<p><b>PENJELASAN</b></p>\n",
    "<p>Dengan menggunakan fitur-fitur agregating kita dapat mengelompokan dan memfilter data serta mencari nilai-nilai yang butuhkan untuk analisis data,dengan fitur groupBy kita dapat mengelompokkan data dan mencari nilai numeric max,min serta mean.<br>\n",
    "Berikut Aksi yang di Lakukan : \n",
    "</p>\n",
    "<ul>\n",
    "    <li>Merubah Nama Kolom Harga dan merubah harga menjadi satuan ribuan dollar</li>\n",
    "    <li>Memfilter merek mobil terbanyak di dalam dataset</li>\n",
    "    <li>Mencari Harga tertinggi mobil pada merek dodge dengan menggunakan filter,groupping dan fungsi agregasi</li>\n",
    "    <li>Mencari harga terendah mobil pada merek ford dengan filter,groupping dan agregasi fungsi</li>\n",
    "</ul>"
   ]
  },
  {
   "cell_type": "markdown",
   "metadata": {},
   "source": [
    "<h2><b>GROUPPING</b></h2>"
   ]
  },
  {
   "cell_type": "code",
   "execution_count": 181,
   "metadata": {},
   "outputs": [
    {
     "name": "stdout",
     "output_type": "stream",
     "text": [
      "+----------+----------+\n",
      "|horsepower|min(Price)|\n",
      "+----------+----------+\n",
      "|       148|   14999.0|\n",
      "|       137|   15010.0|\n",
      "|       255|   46225.0|\n",
      "|       133|   17518.0|\n",
      "|       155|   17885.0|\n",
      "|       193|   33400.0|\n",
      "|       115|   13260.0|\n",
      "|       126|   13499.0|\n",
      "|       210|   24997.0|\n",
      "|       300|   42660.0|\n",
      "|       253|   28340.0|\n",
      "|       236|   45500.0|\n",
      "|       222|   26249.0|\n",
      "|       230|   19460.0|\n",
      "|       225|   28400.0|\n",
      "|       190|   21560.0|\n",
      "|       140|   11799.0|\n",
      "|       132|   12640.0|\n",
      "|       185|   25345.0|\n",
      "|       146|   20550.0|\n",
      "+----------+----------+\n",
      "only showing top 20 rows\n",
      "\n"
     ]
    }
   ],
   "source": [
    "data_groupping_horsepower = df.select(\"Manufacturer\",\"Model\",\"Price\",\"Engine_size\",\"Horsepower\")\n",
    "data_groupping_horsepower.groupBy(\"horsepower\").min(\"Price\").show()"
   ]
  },
  {
   "cell_type": "code",
   "execution_count": 182,
   "metadata": {},
   "outputs": [
    {
     "name": "stdout",
     "output_type": "stream",
     "text": [
      "+------------+------------+\n",
      "|Manufacturer|Jumlah Mobil|\n",
      "+------------+------------+\n",
      "|       Dodge|          11|\n",
      "|        Ford|          11|\n",
      "|   Chevrolet|           9|\n",
      "|  Mercedes-B|           9|\n",
      "|      Toyota|           9|\n",
      "|  Mitsubishi|           7|\n",
      "|    Chrysler|           7|\n",
      "|      Nissan|           7|\n",
      "|  Volkswagen|           6|\n",
      "|  Oldsmobile|           6|\n",
      "|       Lexus|           6|\n",
      "|       Volvo|           6|\n",
      "|     Pontiac|           6|\n",
      "|     Mercury|           6|\n",
      "|      Saturn|           5|\n",
      "|       Honda|           5|\n",
      "|    Cadillac|           5|\n",
      "|    Plymouth|           4|\n",
      "|       Acura|           4|\n",
      "|       Buick|           4|\n",
      "+------------+------------+\n",
      "only showing top 20 rows\n",
      "\n"
     ]
    }
   ],
   "source": [
    "df.groupBy(\"Manufacturer\").count().withColumnRenamed(\"count\",\"Jumlah Mobil\").orderBy(\"Jumlah Mobil\",ascending=False).show()"
   ]
  },
  {
   "cell_type": "markdown",
   "metadata": {},
   "source": [
    "<p><b>PENJELASAN</b></p>\n",
    "<p>Dengan Menggunakan Groupping Kita dapat mengelompokkan data yang sama dan memilih data yang kita inginkan,bisa juga di gabungkan dengan fungsi-fungsi agregasi.<br>\n",
    "Berikut Aksi yang di Lakukan : \n",
    "</p>\n",
    "<ul>\n",
    "    <li>Mencari Harga Mobil Termurah Dari Setiap Kategori Horsepower</li>\n",
    "    <li>Menghitung Jumlah Mobil Tiap Brand Dalam Dataset</li>\n",
    "</ul>"
   ]
  },
  {
   "cell_type": "markdown",
   "metadata": {},
   "source": [
    "<h2><b>JOINING</b></h2>"
   ]
  },
  {
   "cell_type": "code",
   "execution_count": 183,
   "metadata": {},
   "outputs": [],
   "source": [
    "# Membuat Dataframe \n",
    "MerekMobil = [(1,\"Dodge\",\"Amerika Serikat\"),(2,\"Volvo\",\"Amerika Serikat\"),(3,\"Mercedes-B\",\"Jerman\"),(4,\"Aston Martin\",\"England\")]\n",
    "kolom_merekmobil = ['index','Brand','Country']\n",
    "\n",
    "MerekMobil = spark.createDataFrame(data=MerekMobil,schema=kolom_merekmobil)"
   ]
  },
  {
   "cell_type": "code",
   "execution_count": 184,
   "metadata": {},
   "outputs": [
    {
     "name": "stdout",
     "output_type": "stream",
     "text": [
      "+------------+---------+------------------+-------------------+------------+-------+-----------+----------+---------+-----+------+-----------+-------------+---------------+-------------+-----------------+-----+-----+---------------+\n",
      "|Manufacturer|    Model|Sales_in_thousands|__year_resale_value|Vehicle_type|  Price|Engine_size|Horsepower|Wheelbase|Width|Length|Curb_weight|Fuel_capacity|Fuel_efficiency|Latest_Launch|Power_perf_factor|index|Brand|        Country|\n",
      "+------------+---------+------------------+-------------------+------------+-------+-----------+----------+---------+-----+------+-----------+-------------+---------------+-------------+-----------------+-----+-----+---------------+\n",
      "|       Dodge|  Caravan|           181.749|             12.025|         Car|19565.0|        2.4|       150|    113.3| 76.8| 186.3|      3.533|         20.0|             24|     9/1/2011|      61.22700031|    1|Dodge|Amerika Serikat|\n",
      "|       Dodge|  Durango|           101.323|               null|         Car|26310.0|        5.2|       230|    115.7| 71.7| 193.5|      4.394|         25.0|             17|    6/27/2012|      92.85412522|    1|Dodge|Amerika Serikat|\n",
      "|       Dodge|   Dakota|           111.313|              11.26|         Car|16980.0|        2.5|       120|    131.0| 71.5| 215.0|      3.557|         22.0|             19|   11/25/2011|      49.64500177|    1|Dodge|Amerika Serikat|\n",
      "|       Dodge|  Ram Van|            31.038|             13.425|         Car|18575.0|        3.9|       175|    127.2| 78.8| 208.5|      4.298|         32.0|             16|    7/26/2012|      70.07832154|    1|Dodge|Amerika Serikat|\n",
      "|       Dodge|Ram Wagon|            16.767|              15.51|         Car|21315.0|        3.9|       175|    109.6| 78.8| 192.6|      4.245|         32.0|             15|     1/6/2012|      71.13529161|    1|Dodge|Amerika Serikat|\n",
      "+------------+---------+------------------+-------------------+------------+-------+-----------+----------+---------+-----+------+-----------+-------------+---------------+-------------+-----------------+-----+-----+---------------+\n",
      "only showing top 5 rows\n",
      "\n"
     ]
    }
   ],
   "source": [
    "# Inner Join\n",
    "df.join(MerekMobil,MerekMobil.Brand == df.Manufacturer,\"inner\").show(5)"
   ]
  },
  {
   "cell_type": "code",
   "execution_count": 185,
   "metadata": {},
   "outputs": [
    {
     "name": "stdout",
     "output_type": "stream",
     "text": [
      "+------------+-------+------------------+-------------------+------------+-------+-----------+----------+---------+-----+------+-----------+-------------+---------------+-------------+-----------------+-----+------------+-------+\n",
      "|Manufacturer|  Model|Sales_in_thousands|__year_resale_value|Vehicle_type|  Price|Engine_size|Horsepower|Wheelbase|Width|Length|Curb_weight|Fuel_capacity|Fuel_efficiency|Latest_Launch|Power_perf_factor|index|       Brand|Country|\n",
      "+------------+-------+------------------+-------------------+------------+-------+-----------+----------+---------+-----+------+-----------+-------------+---------------+-------------+-----------------+-----+------------+-------+\n",
      "|       Acura|Integra|            16.919|              16.36|   Passenger|21500.0|        1.8|       140|    101.2| 67.3| 172.4|      2.639|         13.2|             28|     2/2/2012|      58.28014952| null|        null|   null|\n",
      "|       Acura|     TL|            39.384|             19.875|   Passenger|28400.0|        3.2|       225|    108.1| 70.3| 192.9|      3.517|         17.2|             25|     6/3/2011|      91.37077766| null|        null|   null|\n",
      "|       Acura|     CL|            14.114|             18.225|   Passenger|   null|        3.2|       225|    106.9| 70.6| 192.0|       3.47|         17.2|             26|     1/4/2012|             null| null|        null|   null|\n",
      "|       Acura|     RL|             8.588|             29.725|   Passenger|42000.0|        3.5|       210|    114.6| 71.4| 196.6|       3.85|         18.0|             22|    3/10/2011|      91.38977933| null|        null|   null|\n",
      "|        null|   null|              null|               null|        null|   null|       null|      null|     null| null|  null|       null|         null|           null|         null|             null|    4|Aston Martin|England|\n",
      "+------------+-------+------------------+-------------------+------------+-------+-----------+----------+---------+-----+------+-----------+-------------+---------------+-------------+-----------------+-----+------------+-------+\n",
      "only showing top 5 rows\n",
      "\n"
     ]
    }
   ],
   "source": [
    "# Outer Join\n",
    "df.join(MerekMobil,MerekMobil.Brand == df.Manufacturer,\"outer\").show(5)"
   ]
  },
  {
   "cell_type": "code",
   "execution_count": 186,
   "metadata": {},
   "outputs": [
    {
     "name": "stdout",
     "output_type": "stream",
     "text": [
      "+------------+-------+------------------+-------------------+------------+-------+-----------+----------+---------+-----+------+-----------+-------------+---------------+-------------+-----------------+-----+-----+-------+\n",
      "|Manufacturer|  Model|Sales_in_thousands|__year_resale_value|Vehicle_type|  Price|Engine_size|Horsepower|Wheelbase|Width|Length|Curb_weight|Fuel_capacity|Fuel_efficiency|Latest_Launch|Power_perf_factor|index|Brand|Country|\n",
      "+------------+-------+------------------+-------------------+------------+-------+-----------+----------+---------+-----+------+-----------+-------------+---------------+-------------+-----------------+-----+-----+-------+\n",
      "|        Audi|     A4|            20.397|             22.255|   Passenger|23990.0|        1.8|       150|    102.6| 68.2| 178.0|      2.998|         16.4|             27|    10/8/2011|       62.7776392| null| null|   null|\n",
      "|        Audi|     A6|             18.78|             23.555|   Passenger|33950.0|        2.8|       200|    108.7| 76.1| 192.0|      3.561|         18.5|             22|     8/9/2011|      84.56510502| null| null|   null|\n",
      "|       Acura|Integra|            16.919|              16.36|   Passenger|21500.0|        1.8|       140|    101.2| 67.3| 172.4|      2.639|         13.2|             28|     2/2/2012|      58.28014952| null| null|   null|\n",
      "|       Acura|     TL|            39.384|             19.875|   Passenger|28400.0|        3.2|       225|    108.1| 70.3| 192.9|      3.517|         17.2|             25|     6/3/2011|      91.37077766| null| null|   null|\n",
      "|       Acura|     CL|            14.114|             18.225|   Passenger|   null|        3.2|       225|    106.9| 70.6| 192.0|       3.47|         17.2|             26|     1/4/2012|             null| null| null|   null|\n",
      "+------------+-------+------------------+-------------------+------------+-------+-----------+----------+---------+-----+------+-----------+-------------+---------------+-------------+-----------------+-----+-----+-------+\n",
      "only showing top 5 rows\n",
      "\n"
     ]
    }
   ],
   "source": [
    "# left Join\n",
    "df.join(MerekMobil,MerekMobil.Brand == df.Manufacturer,\"left\").show(5)"
   ]
  },
  {
   "cell_type": "code",
   "execution_count": 187,
   "metadata": {},
   "outputs": [
    {
     "name": "stdout",
     "output_type": "stream",
     "text": [
      "+------------+---------+------------------+-------------------+------------+-------+-----------+----------+---------+-----+------+-----------+-------------+---------------+-------------+-----------------+-----+-----+---------------+\n",
      "|Manufacturer|    Model|Sales_in_thousands|__year_resale_value|Vehicle_type|  Price|Engine_size|Horsepower|Wheelbase|Width|Length|Curb_weight|Fuel_capacity|Fuel_efficiency|Latest_Launch|Power_perf_factor|index|Brand|        Country|\n",
      "+------------+---------+------------------+-------------------+------------+-------+-----------+----------+---------+-----+------+-----------+-------------+---------------+-------------+-----------------+-----+-----+---------------+\n",
      "|       Dodge|  Caravan|           181.749|             12.025|         Car|19565.0|        2.4|       150|    113.3| 76.8| 186.3|      3.533|         20.0|             24|     9/1/2011|      61.22700031|    1|Dodge|Amerika Serikat|\n",
      "|       Dodge|  Durango|           101.323|               null|         Car|26310.0|        5.2|       230|    115.7| 71.7| 193.5|      4.394|         25.0|             17|    6/27/2012|      92.85412522|    1|Dodge|Amerika Serikat|\n",
      "|       Dodge|   Dakota|           111.313|              11.26|         Car|16980.0|        2.5|       120|    131.0| 71.5| 215.0|      3.557|         22.0|             19|   11/25/2011|      49.64500177|    1|Dodge|Amerika Serikat|\n",
      "|       Dodge|  Ram Van|            31.038|             13.425|         Car|18575.0|        3.9|       175|    127.2| 78.8| 208.5|      4.298|         32.0|             16|    7/26/2012|      70.07832154|    1|Dodge|Amerika Serikat|\n",
      "|       Dodge|Ram Wagon|            16.767|              15.51|         Car|21315.0|        3.9|       175|    109.6| 78.8| 192.6|      4.245|         32.0|             15|     1/6/2012|      71.13529161|    1|Dodge|Amerika Serikat|\n",
      "+------------+---------+------------------+-------------------+------------+-------+-----------+----------+---------+-----+------+-----------+-------------+---------------+-------------+-----------------+-----+-----+---------------+\n",
      "only showing top 5 rows\n",
      "\n"
     ]
    }
   ],
   "source": [
    "# right Join\n",
    "df.join(MerekMobil,MerekMobil.Brand == df.Manufacturer,\"right\").show(5)"
   ]
  },
  {
   "cell_type": "markdown",
   "metadata": {},
   "source": [
    "<p><b>PENJELASAN</b></p>\n",
    "<p>Dengan menggunakan fitur join kita dapat menggabungkan 2 dataframe berbeda menjadi 1,sistem join pun mirip dengan sql namun agar bisa di gabungkan 2 dataframe tersebut harus memiliki nilai kolom yang sama.<br>\n",
    "Berikut Aksi yang di Lakukan : \n",
    "</p>\n",
    "<ul>\n",
    "    <li>Mengabungkan Dataset Merekmobil dan df</li>\n",
    "</ul>"
   ]
  }
 ],
 "metadata": {
  "kernelspec": {
   "display_name": "BigData",
   "language": "python",
   "name": "python3"
  },
  "language_info": {
   "codemirror_mode": {
    "name": "ipython",
    "version": 3
   },
   "file_extension": ".py",
   "mimetype": "text/x-python",
   "name": "python",
   "nbconvert_exporter": "python",
   "pygments_lexer": "ipython3",
   "version": "3.10.10"
  },
  "orig_nbformat": 4
 },
 "nbformat": 4,
 "nbformat_minor": 2
}
