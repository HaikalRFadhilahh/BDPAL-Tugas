{
 "cells": [
  {
   "cell_type": "markdown",
   "metadata": {},
   "source": [
    "<h1><b>Big Data & Predictive Analytics Lanjut (Tugas 1)</b></h1>\n",
    "<ul>\n",
    "    <li><b>Nama : Haikal Raditya Fadhilah</b></li>\n",
    "    <li><b>NIM : 21.11.3910</b></li>\n",
    "    <li><b>Kelas : Informatika 02</b></li>\n",
    "</ul>"
   ]
  },
  {
   "cell_type": "markdown",
   "metadata": {},
   "source": [
    "<h2><b>Soal Praktikum</b></h2>"
   ]
  },
  {
   "cell_type": "markdown",
   "metadata": {},
   "source": [
    "\n",
    "<ol>\n",
    "\n",
    "<li>Jelaskan kenapa harus disimpan ke dalam tabel? df.write.saveAsTable(\"nama tabel\")</li>\n",
    "<li>Ganti beberapa nama kolom secara bersamaan</li>\n",
    "<li>Hapus beberapa kolom yang tidak berguna, dan tambahkan satu kolom baru lalu disimpan</li>\n",
    "<li>Sebutkan kemungkinan yang bisa didapatkan dari sekedar mengatur dan melihat kolom-kolom yang berpengaruh pada sebuah data, jelaskan berdasarkan data yang anda miliki sendiri.</li>\n",
    "\n",
    "</ol>\n"
   ]
  },
  {
   "cell_type": "markdown",
   "metadata": {},
   "source": [
    "<h2><b>IMPORT LIBRARY</b></h2>"
   ]
  },
  {
   "cell_type": "code",
   "execution_count": 107,
   "metadata": {},
   "outputs": [],
   "source": [
    "import findspark\n",
    "import pyspark\n",
    "from pyspark.sql import SparkSession\n",
    "from pyspark.sql.functions import col"
   ]
  },
  {
   "cell_type": "markdown",
   "metadata": {},
   "source": [
    "<h2><b>MEMBUAT SESSION SPARK</b></h2>"
   ]
  },
  {
   "cell_type": "code",
   "execution_count": 108,
   "metadata": {},
   "outputs": [],
   "source": [
    "spark = SparkSession.builder\\\n",
    "    .master(\"local[*]\")\\\n",
    "        .appName(\"Tugas 1 BDPAL\")\\\n",
    "            .getOrCreate()"
   ]
  },
  {
   "cell_type": "markdown",
   "metadata": {},
   "source": [
    "<h2><b>IMPORT DATABASE</b></h2>"
   ]
  },
  {
   "cell_type": "code",
   "execution_count": 109,
   "metadata": {},
   "outputs": [],
   "source": [
    "df = spark.read.csv(\"./order.csv\",header=True,inferSchema=True)\n",
    "df.write.mode(\"overwrite\").saveAsTable(\"order\")"
   ]
  },
  {
   "cell_type": "markdown",
   "metadata": {},
   "source": [
    "<h2><b>MELIHAT KETERANGAN DATA TABLE</b></h2>"
   ]
  },
  {
   "cell_type": "code",
   "execution_count": 110,
   "metadata": {},
   "outputs": [
    {
     "name": "stdout",
     "output_type": "stream",
     "text": [
      "[Table(name='covid19', catalog='spark_catalog', namespace=['default'], description=None, tableType='MANAGED', isTemporary=False), Table(name='order', catalog='spark_catalog', namespace=['default'], description=None, tableType='MANAGED', isTemporary=False)]\n"
     ]
    }
   ],
   "source": [
    "print(spark.catalog.listTables())"
   ]
  },
  {
   "cell_type": "markdown",
   "metadata": {},
   "source": [
    "<h2><b>ANALISIS DATASET</b></h2>"
   ]
  },
  {
   "cell_type": "markdown",
   "metadata": {},
   "source": [
    "<h3><b>1. Membuat Dataframe Dengan Query</b></h3>"
   ]
  },
  {
   "cell_type": "code",
   "execution_count": 127,
   "metadata": {},
   "outputs": [
    {
     "name": "stdout",
     "output_type": "stream",
     "text": [
      "+--------------------+--------+--------------------+-------+--------------------+-------------+--------------------+------------+-------------+---------------+---------------------+-------------------+\n",
      "|            order_id|quantity|          product_id|  price|           seller_id|freight_value|         customer_id|order_status|purchase_date|   payment_type|product_category_name|product_weight_gram|\n",
      "+--------------------+--------+--------------------+-------+--------------------+-------------+--------------------+------------+-------------+---------------+---------------------+-------------------+\n",
      "|e3ad77f2683cf57ce...|       1|52b3af7304d611855...|1040000|4a3ca9315b744ce9f...|       124000|ea665ac5a97f1a398...|   delivered|   2017-07-30|    credit card|               gadget|               1150|\n",
      "|e7ac1f7da9fc50f09...|       1|b09790edda5433311...|1693000|d2374cbcbb3ca4ab1...|       101000|2981aa48735242d92...|   delivered|   2017-07-30|virtual account|               sports|                400|\n",
      "+--------------------+--------+--------------------+-------+--------------------+-------------+--------------------+------------+-------------+---------------+---------------------+-------------------+\n",
      "only showing top 2 rows\n",
      "\n"
     ]
    }
   ],
   "source": [
    "dataset = spark.sql(\"select * from order\")\n",
    "dataset.show(2)"
   ]
  },
  {
   "cell_type": "markdown",
   "metadata": {},
   "source": [
    "<h3><b>2. Melihat Tipe Data Setiap Kolom</b></h3>"
   ]
  },
  {
   "cell_type": "code",
   "execution_count": 112,
   "metadata": {},
   "outputs": [
    {
     "name": "stdout",
     "output_type": "stream",
     "text": [
      "root\n",
      " |-- order_id: string (nullable = true)\n",
      " |-- quantity: integer (nullable = true)\n",
      " |-- product_id: string (nullable = true)\n",
      " |-- price: integer (nullable = true)\n",
      " |-- seller_id: string (nullable = true)\n",
      " |-- freight_value: integer (nullable = true)\n",
      " |-- customer_id: string (nullable = true)\n",
      " |-- order_status: string (nullable = true)\n",
      " |-- purchase_date: date (nullable = true)\n",
      " |-- payment_type: string (nullable = true)\n",
      " |-- product_category_name: string (nullable = true)\n",
      " |-- product_weight_gram: integer (nullable = true)\n",
      "\n"
     ]
    }
   ],
   "source": [
    "dataset.printSchema()"
   ]
  },
  {
   "cell_type": "markdown",
   "metadata": {},
   "source": [
    "<h3><b>3. Melihat Jumlah Baris Dan Kolom</b></h3>"
   ]
  },
  {
   "cell_type": "code",
   "execution_count": 113,
   "metadata": {},
   "outputs": [
    {
     "name": "stdout",
     "output_type": "stream",
     "text": [
      "Jumlah Baris Dataset Sejumlah :  49999\n",
      "Jumlah Kolom Dataset Sejumlah :  12\n"
     ]
    }
   ],
   "source": [
    "print(\"Jumlah Baris Dataset Sejumlah : \",dataset.count())\n",
    "print(\"Jumlah Kolom Dataset Sejumlah : \", len(dataset.columns))"
   ]
  },
  {
   "cell_type": "markdown",
   "metadata": {},
   "source": [
    "<h3><b>4. Melihat Deskripsi Dari Dataset</b></h3>"
   ]
  },
  {
   "cell_type": "code",
   "execution_count": 114,
   "metadata": {},
   "outputs": [
    {
     "name": "stderr",
     "output_type": "stream",
     "text": [
      "[Stage 119:======================================>                  (2 + 1) / 3]\r"
     ]
    },
    {
     "name": "stdout",
     "output_type": "stream",
     "text": [
      "+-------+--------------------+------------------+--------------------+------------------+--------------------+------------------+--------------------+------------+---------------+---------------------+-------------------+\n",
      "|summary|            order_id|          quantity|          product_id|             price|           seller_id|     freight_value|         customer_id|order_status|   payment_type|product_category_name|product_weight_gram|\n",
      "+-------+--------------------+------------------+--------------------+------------------+--------------------+------------------+--------------------+------------+---------------+---------------------+-------------------+\n",
      "|  count|               49999|             49999|               49999|             49999|               49999|             49999|               49999|       49999|          49999|                49999|              49980|\n",
      "|   mean|                null|1.1974839496789935|                null|2607783.9156783135|                null|104521.39042780855|                null|        null|           null|                 null|  2201.830892356943|\n",
      "| stddev|                null|0.7222615427162363|                null| 1388311.591031154|                null| 55179.84496236245|                null|        null|           null|                 null| 3929.8968753726276|\n",
      "|    min|00010242fe8c5a6d1...|                 1|00088930e925c41fd...|            200000|0015a82c2db000af6...|              9000|00012a2ce6f8dcda2...|    approved|    credit card|           automotive|                 50|\n",
      "|    max|fffe18544ffabc95d...|                21|fff9553ac224cec9d...|           5000000|ffff564a4f9085cd2...|            200000|ffffa3172527f765d...| unavailable|virtual account|            utilities|              40425|\n",
      "+-------+--------------------+------------------+--------------------+------------------+--------------------+------------------+--------------------+------------+---------------+---------------------+-------------------+\n",
      "\n"
     ]
    },
    {
     "name": "stderr",
     "output_type": "stream",
     "text": [
      "                                                                                \r"
     ]
    }
   ],
   "source": [
    "dataset.describe().show()"
   ]
  },
  {
   "cell_type": "markdown",
   "metadata": {},
   "source": [
    "<h2><b>JAWABAN SOAL</b></h2>"
   ]
  },
  {
   "cell_type": "markdown",
   "metadata": {},
   "source": [
    "<h3><b>1. Jelaskan kenapa harus disimpan ke dalam tabel? df.write.saveAsTable(\"nama tabel\")</b></h3>"
   ]
  },
  {
   "cell_type": "markdown",
   "metadata": {},
   "source": [
    "<p>Fungsi PySpark Yaitu saveAsTable() Berfungsi untuk menyimpan sebuah dataset menjadi table dalam sebuah database,dengan menggunakan menyimpan ke dalam tabel pengguna dapat melakukan query-query sql yang cukup kompleks agar dapat menghasilkan sebuah hasil tujuan analisis data</p>"
   ]
  },
  {
   "cell_type": "markdown",
   "metadata": {},
   "source": [
    "<h3><b>2. Mengganti Beberapa Kolom Secara Bersamaan</b></h3>"
   ]
  },
  {
   "cell_type": "markdown",
   "metadata": {},
   "source": [
    "<p>Pada Bagian ini saya mengganti Nama 2 Kolom yaitu Kolom Quantity diganti dengan \"Jumlah Pembelian\" Dan Kolom Price di ganti dengan \"Harga\"</p>"
   ]
  },
  {
   "cell_type": "code",
   "execution_count": 115,
   "metadata": {},
   "outputs": [
    {
     "name": "stdout",
     "output_type": "stream",
     "text": [
      "root\n",
      " |-- order_id: string (nullable = true)\n",
      " |-- quantity: integer (nullable = true)\n",
      " |-- product_id: string (nullable = true)\n",
      " |-- price: integer (nullable = true)\n",
      " |-- seller_id: string (nullable = true)\n",
      " |-- freight_value: integer (nullable = true)\n",
      " |-- customer_id: string (nullable = true)\n",
      " |-- order_status: string (nullable = true)\n",
      " |-- purchase_date: date (nullable = true)\n",
      " |-- payment_type: string (nullable = true)\n",
      " |-- product_category_name: string (nullable = true)\n",
      " |-- product_weight_gram: integer (nullable = true)\n",
      "\n"
     ]
    }
   ],
   "source": [
    "#Dataset Original Sebelum Nama Kolomnya Di Rename'\n",
    "dataset.printSchema()"
   ]
  },
  {
   "cell_type": "code",
   "execution_count": 116,
   "metadata": {},
   "outputs": [
    {
     "name": "stdout",
     "output_type": "stream",
     "text": [
      "root\n",
      " |-- order_id: string (nullable = true)\n",
      " |-- Jumlah Pembelian: integer (nullable = true)\n",
      " |-- product_id: string (nullable = true)\n",
      " |-- Harga: integer (nullable = true)\n",
      " |-- seller_id: string (nullable = true)\n",
      " |-- freight_value: integer (nullable = true)\n",
      " |-- customer_id: string (nullable = true)\n",
      " |-- order_status: string (nullable = true)\n",
      " |-- purchase_date: date (nullable = true)\n",
      " |-- payment_type: string (nullable = true)\n",
      " |-- product_category_name: string (nullable = true)\n",
      " |-- product_weight_gram: integer (nullable = true)\n",
      "\n"
     ]
    }
   ],
   "source": [
    "#Dataset Setelah Merename Beberapa Kolom\n",
    "datasetRevisi = df.withColumnRenamed(\"quantity\",\"Jumlah Pembelian\")\\\n",
    "    .withColumnRenamed(\"price\",\"Harga\")\\\n",
    "        .withColumnRenamed(\"Total Deaths\",\"Total Kematian\")\n",
    "datasetRevisi.printSchema()"
   ]
  },
  {
   "cell_type": "markdown",
   "metadata": {},
   "source": [
    "<h3><b>3. Hapus beberapa kolom yang tidak berguna, dan tambahkan satu kolom baru lalu disimpan</b></h3>"
   ]
  },
  {
   "cell_type": "code",
   "execution_count": 128,
   "metadata": {},
   "outputs": [
    {
     "name": "stdout",
     "output_type": "stream",
     "text": [
      "+----------------+-------+-------------+------------+---------------+---------------------+-------------------+------------+\n",
      "|Jumlah Pembelian|  Harga|freight_value|order_status|   payment_type|product_category_name|product_weight_gram|Product (Kg)|\n",
      "+----------------+-------+-------------+------------+---------------+---------------------+-------------------+------------+\n",
      "|               2|1489000|        28000|     shipped|virtual account|              fashion|               1800|         1.8|\n",
      "|               1|1756000|        45000|     shipped|virtual account|           automotive|               1400|         1.4|\n",
      "|               1|1707000|       174000|    canceled|       e-wallet|                 toys|                700|         0.7|\n",
      "+----------------+-------+-------------+------------+---------------+---------------------+-------------------+------------+\n",
      "only showing top 3 rows\n",
      "\n"
     ]
    }
   ],
   "source": [
    "datasetRevisi = datasetRevisi.drop('order_id')\\\n",
    "    .drop('product_id')\\\n",
    "        .drop('seller_id')\\\n",
    "            .drop('customer_id')\\\n",
    "                .drop('purchase_date')\\\n",
    "                    .withColumn(\"Product (Kg)\",col(\"product_weight_gram\") / 1000)\n",
    "datasetRevisi.show(3)"
   ]
  },
  {
   "cell_type": "markdown",
   "metadata": {},
   "source": [
    "<h3><b>4. Sebutkan kemungkinan yang bisa didapatkan dari sekedar mengatur dan melihat kolom-kolom yang berpengaruh pada sebuah data, jelaskan berdasarkan data yang anda miliki sendiri.</b></h3>"
   ]
  },
  {
   "cell_type": "code",
   "execution_count": 125,
   "metadata": {},
   "outputs": [
    {
     "name": "stdout",
     "output_type": "stream",
     "text": [
      "+------------+\n",
      "|order_status|\n",
      "+------------+\n",
      "|     shipped|\n",
      "|    canceled|\n",
      "|    approved|\n",
      "|    invoiced|\n",
      "|   delivered|\n",
      "| unavailable|\n",
      "|  processing|\n",
      "+------------+\n",
      "\n"
     ]
    }
   ],
   "source": [
    "datasetRevisi.select(\"order_status\").distinct().show()"
   ]
  },
  {
   "cell_type": "code",
   "execution_count": 126,
   "metadata": {},
   "outputs": [
    {
     "name": "stdout",
     "output_type": "stream",
     "text": [
      "+---------------------+----------------+\n",
      "|product_category_name|Jumlah Pembelian|\n",
      "+---------------------+----------------+\n",
      "|               gadget|              62|\n",
      "|            utilities|              65|\n",
      "|           automotive|              96|\n",
      "|               beauty|              85|\n",
      "|          electronics|              86|\n",
      "+---------------------+----------------+\n",
      "only showing top 5 rows\n",
      "\n"
     ]
    }
   ],
   "source": [
    "# Melihat Jumlah Pembelian Dari Pengelompokan Product Category\n",
    "jumlahPenjualan = datasetRevisi.filter(datasetRevisi.order_status == \"shipped\").groupBy(\"product_category_name\").sum().select(\"product_category_name\",\"sum(Jumlah Pembelian)\").withColumnRenamed(\"sum(Jumlah Pembelian)\",\"Jumlah Pembelian\")\n",
    "jumlahPenjualan.show(5)"
   ]
  },
  {
   "cell_type": "markdown",
   "metadata": {},
   "source": [
    "<p>Dengan Melihat struktur dataset serta mengolahnya kita dapat mendapatkan beberapa informasi penting di dalam dataset berikut kesimpulan yang saya peroleh dari dataset diatas : \n",
    "    <ul>\n",
    "        <li>Mengetahui bahwa dataset yang saya analisis merupakan dataset penjualan beberapa kategori barang</li>\n",
    "        <li>Mengetahui bahwa produk kategori yang berhasil terjual yaitu produk otomotif sebanyak 96 barang</li>\n",
    "    </ul>\n",
    "</p>"
   ]
  }
 ],
 "metadata": {
  "kernelspec": {
   "display_name": "BigData",
   "language": "python",
   "name": "python3"
  },
  "language_info": {
   "codemirror_mode": {
    "name": "ipython",
    "version": 3
   },
   "file_extension": ".py",
   "mimetype": "text/x-python",
   "name": "python",
   "nbconvert_exporter": "python",
   "pygments_lexer": "ipython3",
   "version": "3.10.10"
  },
  "orig_nbformat": 4
 },
 "nbformat": 4,
 "nbformat_minor": 2
}
